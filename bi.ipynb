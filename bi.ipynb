{
 "cells": [
  {
   "cell_type": "code",
   "execution_count": 11,
   "id": "4ea37b53",
   "metadata": {},
   "outputs": [
    {
     "name": "stdout",
     "output_type": "stream",
     "text": [
      "Accuracy: 83.50290697674419 ....%\n",
      "MAE: 53.32001304956566\n",
      "MSE: 55.589159869524394\n",
      "RMSE: 7.455813830127761\n"
     ]
    }
   ],
   "source": [
    "from sklearn.linear_model import LinearRegression\n",
    "from sklearn.datasets import fetch_california_housing\n",
    "from sklearn.model_selection import train_test_split\n",
    "from sklearn import metrics\n",
    "import numpy as np\n",
    "\n",
    "# Load the House Prices dataset\n",
    "data = fetch_california_housing(as_frame=True)\n",
    "X, y = data.data, data.target\n",
    "\n",
    "# Split the dataset into training and testing sets\n",
    "X_train, X_test, y_train, y_test = train_test_split(X, y, test_size=0.2, random_state=42)\n",
    "\n",
    "# Initialize and train the Linear Regression model\n",
    "linear_regression = LinearRegression()\n",
    "linear_regression.fit(X_train, y_train)\n",
    "\n",
    "# Make predictions on the test set\n",
    "y_pred = linear_regression.predict(X_test)\n",
    "\n",
    "# Define a threshold to convert regression predictions into binary classes\n",
    "threshold = 2.5\n",
    "\n",
    "# Convert predictions into binary classes\n",
    "y_pred_binary = [1 if pred >= threshold else 0 for pred in y_pred]\n",
    "\n",
    "# Calculate accuracy based on the binary classes\n",
    "accuracy = metrics.accuracy_score(y_test >= threshold, y_pred_binary)\n",
    "print(\"Accuracy:\", accuracy*100,\"....%\")\n",
    "\n",
    "print('MAE:', metrics.mean_absolute_error(y_test, y_pred)*100)\n",
    "\n",
    "print('MSE:', metrics.mean_squared_error(y_test, y_pred)*100)\n",
    "\n",
    "print('RMSE:', np.sqrt(metrics.mean_squared_error(y_test, y_pred)*100))"
   ]
  },
  {
   "cell_type": "code",
   "execution_count": null,
   "id": "cdb448c9",
   "metadata": {},
   "outputs": [],
   "source": []
  },
  {
   "cell_type": "code",
   "execution_count": null,
   "id": "7293733a",
   "metadata": {},
   "outputs": [],
   "source": []
  }
 ],
 "metadata": {
  "kernelspec": {
   "display_name": "Python 3",
   "language": "python",
   "name": "python3"
  },
  "language_info": {
   "codemirror_mode": {
    "name": "ipython",
    "version": 3
   },
   "file_extension": ".py",
   "mimetype": "text/x-python",
   "name": "python",
   "nbconvert_exporter": "python",
   "pygments_lexer": "ipython3",
   "version": "3.8.8"
  }
 },
 "nbformat": 4,
 "nbformat_minor": 5
}
